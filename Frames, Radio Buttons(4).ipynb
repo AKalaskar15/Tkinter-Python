{
 "cells": [
  {
   "cell_type": "markdown",
   "metadata": {},
   "source": [
    "## Frames"
   ]
  },
  {
   "cell_type": "code",
   "execution_count": 2,
   "metadata": {},
   "outputs": [],
   "source": [
    "from tkinter import *\n",
    "from PIL import ImageTk, Image"
   ]
  },
  {
   "cell_type": "code",
   "execution_count": 6,
   "metadata": {},
   "outputs": [],
   "source": [
    "root=Tk()\n",
    "root.title(\"Frames\")\n",
    "root.iconbitmap('D:/calci.ico')\n",
    "\n",
    "frame= LabelFrame(root, text=\"This is my frame...\", padx=25, pady=25)\n",
    "frame.pack(padx=10,pady=10)\n",
    "\n",
    "b= Button(frame, text=\"Don't Touch!!\")\n",
    "b.pack()\n",
    "\n",
    "root.mainloop()"
   ]
  },
  {
   "cell_type": "code",
   "execution_count": 9,
   "metadata": {},
   "outputs": [],
   "source": [
    "root=Tk()\n",
    "root.title(\"Frames\")\n",
    "root.iconbitmap('D:/calci.ico')\n",
    "\n",
    "frame= LabelFrame(root, text=\"This is my frame...\", padx=25, pady=25)\n",
    "frame.pack(padx=10,pady=10)\n",
    "\n",
    "b= Button(frame, text=\"Don't Touch!!\")\n",
    "b.grid(row=0,column=0)\n",
    "b2= Button(frame, text=\"Click Here!!\")\n",
    "b2.grid(row=1,column=1)\n",
    "\n",
    "root.mainloop()"
   ]
  },
  {
   "cell_type": "code",
   "execution_count": null,
   "metadata": {},
   "outputs": [],
   "source": []
  },
  {
   "cell_type": "markdown",
   "metadata": {},
   "source": [
    "## Radio Buttons"
   ]
  },
  {
   "cell_type": "code",
   "execution_count": 17,
   "metadata": {},
   "outputs": [],
   "source": [
    "root=Tk()\n",
    "root.title(\"Radio Buttons\")\n",
    "\n",
    "r = IntVar()\n",
    "r.set(\"2\")\n",
    "# r = StrVar()\n",
    "\n",
    "def clicked(value):\n",
    "    myLabel= Label(root, text=value)\n",
    "    myLabel.pack()\n",
    "    \n",
    "\n",
    "# RadioButton(root, text=\"Option 1\", variable=r,value='1').pack()\n",
    "Radiobutton(root, text=\"Option 1\", variable=r,value=1,command=lambda: clicked(r.get())).pack()\n",
    "Radiobutton(root, text=\"Option 2\", variable=r,value=2,command=lambda: clicked(r.get())).pack()\n",
    "\n",
    "myLabel= Label(root, text=r.get())\n",
    "myLabel.pack()\n",
    "\n",
    "myButton= Button(root, text=\"Click any option\", command= lambda: clicked(r.get())).pack()\n",
    "\n",
    "root.mainloop()"
   ]
  },
  {
   "cell_type": "code",
   "execution_count": 24,
   "metadata": {},
   "outputs": [],
   "source": [
    "root=Tk()\n",
    "root.title(\"Radio Buttons\")\n",
    "\n",
    "\n",
    "modes=[(\"Pepperoni\",\"Pepperoni\"),\n",
    "       (\"Cheese\",\"Cheese\"),\n",
    "       (\"Mushroom\",\"Mushroom\"),\n",
    "       (\"Onion\",\"Onion\")]\n",
    "\n",
    "\n",
    "pizza= StringVar()\n",
    "pizza.set(\"Pepperoni\")\n",
    "\n",
    "for text, mode in modes:\n",
    "    Radiobutton(root, text=text, variable=pizza, value=mode).pack(anchor=W)\n",
    "    \n",
    "def clicked(value):\n",
    "    myLabel= Label(root, text=value)\n",
    "    myLabel.pack()\n",
    "    \n",
    "\n",
    "#myLabel= Label(root, text=pizza.get())\n",
    "#myLabel.pack()\n",
    "\n",
    "myButton= Button(root, text=\"Pizza topping:\", command= lambda: clicked(pizza.get())).pack()\n",
    "\n",
    "root.mainloop()"
   ]
  },
  {
   "cell_type": "code",
   "execution_count": null,
   "metadata": {},
   "outputs": [],
   "source": []
  },
  {
   "cell_type": "code",
   "execution_count": null,
   "metadata": {},
   "outputs": [],
   "source": []
  }
 ],
 "metadata": {
  "kernelspec": {
   "display_name": "Python 3",
   "language": "python",
   "name": "python3"
  },
  "language_info": {
   "codemirror_mode": {
    "name": "ipython",
    "version": 3
   },
   "file_extension": ".py",
   "mimetype": "text/x-python",
   "name": "python",
   "nbconvert_exporter": "python",
   "pygments_lexer": "ipython3",
   "version": "3.8.3"
  }
 },
 "nbformat": 4,
 "nbformat_minor": 4
}
