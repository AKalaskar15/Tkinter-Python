{
 "cells": [
  {
   "cell_type": "markdown",
   "metadata": {},
   "source": [
    "## Sliders"
   ]
  },
  {
   "cell_type": "code",
   "execution_count": 1,
   "metadata": {},
   "outputs": [],
   "source": [
    "from tkinter import *\n",
    "from PIL import ImageTk,Image"
   ]
  },
  {
   "cell_type": "code",
   "execution_count": 12,
   "metadata": {},
   "outputs": [],
   "source": [
    "root=Tk()\n",
    "root.title(\"Creating Sliders\")\n",
    "root.geometry(\"400x400\")\n",
    "\n",
    "vertical=Scale(root, from_=0, to=200)\n",
    "vertical.pack()\n",
    "\n",
    "horizontal=Scale(root, from_=0, to=400, orient=HORIZONTAL)\n",
    "horizontal.pack()\n",
    "\n",
    "def slide():\n",
    "    h_label=Label(root, text=horizontal.get()).pack()\n",
    "    root.geometry(str(horizontal.get()) + \"x400\")\n",
    "\n",
    "my_btn=Button(root, text=\"Click me\", command=slide).pack()\n",
    "\n",
    "root.mainloop()"
   ]
  },
  {
   "cell_type": "code",
   "execution_count": null,
   "metadata": {},
   "outputs": [],
   "source": [
    "root=Tk()\n",
    "root.title(\"Creating Sliders\")\n",
    "root.geometry(\"400x400\")\n",
    "\n",
    "def slide(value):\n",
    "    h_label=Label(root, text=horizontal.get()).pack()\n",
    "    root.geometry(str(horizontal.get()) + \"x400\")\n",
    "\n",
    "vertical=Scale(root, from_=0, to=200)\n",
    "vertical.pack()\n",
    "\n",
    "horizontal=Scale(root, from_=0, to=400, orient=HORIZONTAL, command=slide)\n",
    "horizontal.pack()\n",
    "\n",
    "my_btn=Button(root, text=\"Click me\", command=slide).pack()\n",
    "\n",
    "root.mainloop()"
   ]
  },
  {
   "cell_type": "code",
   "execution_count": 14,
   "metadata": {},
   "outputs": [],
   "source": [
    "root=Tk()\n",
    "root.title(\"Creating Sliders\")\n",
    "root.geometry(\"400x400\")\n",
    "\n",
    "def slide():\n",
    "    h_label=Label(root, text=horizontal.get()).pack()\n",
    "    v_label=Label(root, text=vertical.get()).pack()\n",
    "    root.geometry(str(horizontal.get()) + \"x\" + str(vertical.get()))\n",
    "\n",
    "vertical=Scale(root, from_=0, to=200) \n",
    "vertical.pack()\n",
    "\n",
    "horizontal=Scale(root, from_=0, to=400, orient=HORIZONTAL)\n",
    "horizontal.pack()\n",
    "\n",
    "my_btn=Button(root, text=\"Click me\", command=slide).pack()\n",
    "\n",
    "root.mainloop()"
   ]
  },
  {
   "cell_type": "code",
   "execution_count": null,
   "metadata": {},
   "outputs": [],
   "source": []
  },
  {
   "cell_type": "markdown",
   "metadata": {},
   "source": [
    "## Checkboxes"
   ]
  },
  {
   "cell_type": "code",
   "execution_count": 7,
   "metadata": {},
   "outputs": [],
   "source": [
    "root=Tk()\n",
    "root.title(\"Creating Sliders\")\n",
    "root.geometry(\"400x400\")\n",
    "\n",
    "def show():\n",
    "    mylabel= Label(root, text=var.get()).pack() \n",
    "\n",
    "var= IntVar()\n",
    "\n",
    "c=Checkbutton(root, text='Check this box')\n",
    "c.pack()\n",
    "\n",
    "myButton= Button(root, text=\"Show Selected value\", command=show).pack()\n",
    "\n",
    "root.mainloop()"
   ]
  },
  {
   "cell_type": "code",
   "execution_count": 11,
   "metadata": {},
   "outputs": [],
   "source": [
    "root=Tk()\n",
    "root.title(\"Creating Sliders\")\n",
    "root.geometry(\"400x400\")\n",
    "\n",
    "def show():\n",
    "    mylabel= Label(root, text=var.get()).pack() \n",
    "\n",
    "var= StringVar()\n",
    "\n",
    "c=Checkbutton(root, text='Check this box', variable=var, onvalue=\"ON\", offvalue=\"OFF\")\n",
    "c.pack()\n",
    "\n",
    "myButton= Button(root, text=\"Show Selected value\", command=show).pack()\n",
    "\n",
    "root.mainloop()"
   ]
  },
  {
   "cell_type": "code",
   "execution_count": 12,
   "metadata": {},
   "outputs": [],
   "source": [
    "root=Tk()\n",
    "root.title(\"Creating Sliders\")\n",
    "root.geometry(\"400x400\")\n",
    "\n",
    "def show():\n",
    "    mylabel= Label(root, text=var.get()).pack() \n",
    "\n",
    "var= StringVar()\n",
    "\n",
    "c=Checkbutton(root, text='Check this box', variable=var, onvalue=\"ON\", offvalue=\"OFF\")\n",
    "c.deselect()\n",
    "c.pack()\n",
    "\n",
    "myButton= Button(root, text=\"Show Selected value\", command=show).pack()\n",
    "\n",
    "root.mainloop()"
   ]
  },
  {
   "cell_type": "code",
   "execution_count": null,
   "metadata": {},
   "outputs": [],
   "source": []
  },
  {
   "cell_type": "code",
   "execution_count": null,
   "metadata": {},
   "outputs": [],
   "source": []
  },
  {
   "cell_type": "code",
   "execution_count": null,
   "metadata": {},
   "outputs": [],
   "source": []
  }
 ],
 "metadata": {
  "kernelspec": {
   "display_name": "Python 3",
   "language": "python",
   "name": "python3"
  },
  "language_info": {
   "codemirror_mode": {
    "name": "ipython",
    "version": 3
   },
   "file_extension": ".py",
   "mimetype": "text/x-python",
   "name": "python",
   "nbconvert_exporter": "python",
   "pygments_lexer": "ipython3",
   "version": "3.8.3"
  }
 },
 "nbformat": 4,
 "nbformat_minor": 4
}
