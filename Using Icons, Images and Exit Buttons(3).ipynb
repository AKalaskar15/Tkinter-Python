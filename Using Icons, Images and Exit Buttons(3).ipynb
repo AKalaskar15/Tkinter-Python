{
 "cells": [
  {
   "cell_type": "markdown",
   "metadata": {},
   "source": [
    "# Icons, Images and Exit Buttons"
   ]
  },
  {
   "cell_type": "code",
   "execution_count": 2,
   "metadata": {},
   "outputs": [
    {
     "name": "stdout",
     "output_type": "stream",
     "text": [
      "Requirement already satisfied: Pillow in c:\\users\\hp\\anaconda3\\lib\\site-packages (7.2.0)\n"
     ]
    }
   ],
   "source": [
    "from tkinter import *\n",
    "from PIL import ImageTk,Image\n",
    "\n",
    "! pip install Pillow\n",
    "\n",
    "#! pip freeze"
   ]
  },
  {
   "cell_type": "code",
   "execution_count": 8,
   "metadata": {},
   "outputs": [],
   "source": [
    "root=Tk()\n",
    "root.title(\"Learn to code at Codemy.com\")\n",
    "\n",
    "# Icon \n",
    "root.iconbitmap('D:/calci.ico')\n",
    "\n",
    "# Exit Button\n",
    "button_exit=Button(root, text=\"Exit Program\", command=root.quit)\n",
    "button_exit.pack()\n",
    "\n",
    "#Image\n",
    "my_img=ImageTk.PhotoImage(Image.open(\"calci.png\"))\n",
    "my_label=Label(image=my_img)\n",
    "my_label.pack()\n",
    "\n",
    "\n",
    "root.mainloop()"
   ]
  },
  {
   "cell_type": "markdown",
   "metadata": {},
   "source": [
    "## Viewer"
   ]
  },
  {
   "cell_type": "code",
   "execution_count": 35,
   "metadata": {},
   "outputs": [],
   "source": [
    "root=Tk()\n",
    "root.title(\"Image Viewer\")\n",
    "\n",
    "#Images\n",
    "my_img1=ImageTk.PhotoImage(Image.open(\"Images/image1.png\"))\n",
    "my_img2=ImageTk.PhotoImage(Image.open(\"Images/calci.png\"))\n",
    "my_img3=ImageTk.PhotoImage(Image.open(\"Images/image3.png\"))\n",
    "my_img4=ImageTk.PhotoImage(Image.open(\"Images/image4.png\"))\n",
    "my_img5=ImageTk.PhotoImage(Image.open(\"Images/image5.png\"))\n",
    "\n",
    "image_list=[my_img1,my_img2,my_img3,my_img4,my_img5,my_img6]\n",
    "\n",
    "#image_list[]\n",
    "\n",
    "def forward(image_number):\n",
    "    global my_label\n",
    "    global button_forward\n",
    "    global back\n",
    "    \n",
    "    my_label.grid_forget()\n",
    "    my_label=Label(image=image_list[image_number-1])\n",
    "    button_forward=Button(root, text=\">>\", command=lambda: forward(image_number+1))\n",
    "    button_back=Button(root, text=\"<<\", command=lambda: back(image_number-1))\n",
    "    \n",
    "    if (image_number==5):\n",
    "        button_forward=Button(root, text=\">>\",state=DISABLED)\n",
    "    \n",
    "    my_label.grid(row=0,column=0,columnspan=3)\n",
    "    button_back.grid(row=1,column=0)\n",
    "    button_forward.grid(row=1,column=2)\n",
    "    \n",
    "def back(image_number):\n",
    "    global my_label\n",
    "    global button_forward\n",
    "    global back\n",
    "    \n",
    "    my_label.grid_forget()\n",
    "    my_label=Label(image=image_list[image_number-1])\n",
    "    button_forward=Button(root, text=\">>\", command=lambda: forward(image_number+1))\n",
    "    button_back=Button(root, text=\"<<\", command=lambda: back(image_number-1))\n",
    "    \n",
    "    if (image_number==1):\n",
    "        button_back=Button(root, text=\"<<\",state=DISABLED)\n",
    "    \n",
    "    my_label.grid(row=0,column=0,columnspan=3)\n",
    "    button_back.grid(row=1,column=0)\n",
    "    button_forward.grid(row=1,column=2)\n",
    "\n",
    "my_label=Label(image=my_img1)\n",
    "my_label.grid(row=0,column=0,columnspan=3)\n",
    "\n",
    "# Buttons\n",
    "button_back=Button(root, text=\"<<\", command=back,state=DISABLED)\n",
    "button_exit=Button(root, text=\"Exit\", command=root.quit)\n",
    "button_forward=Button(root, text=\">>\", command=lambda: forward(2))\n",
    "\n",
    "button_back.grid(row=1,column=0)\n",
    "button_exit.grid(row=1,column=1)\n",
    "button_forward.grid(row=1,column=2)\n",
    "\n",
    "root.mainloop()"
   ]
  },
  {
   "cell_type": "markdown",
   "metadata": {},
   "source": [
    "## Status Bar"
   ]
  },
  {
   "cell_type": "code",
   "execution_count": 8,
   "metadata": {},
   "outputs": [],
   "source": [
    "root=Tk()\n",
    "root.title(\"Image Viewer\")\n",
    "\n",
    "#Images\n",
    "my_img1=ImageTk.PhotoImage(Image.open(\"Images/image1.png\"))\n",
    "my_img2=ImageTk.PhotoImage(Image.open(\"Images/calci.png\"))\n",
    "my_img3=ImageTk.PhotoImage(Image.open(\"Images/image3.png\"))\n",
    "my_img4=ImageTk.PhotoImage(Image.open(\"Images/image4.png\"))\n",
    "my_img5=ImageTk.PhotoImage(Image.open(\"Images/image5.png\"))\n",
    "\n",
    "image_list=[my_img1,my_img2,my_img3,my_img4,my_img5]\n",
    "\n",
    "\n",
    "status=Label(root, text=\"Image 1 of \"+ str(len(image_list)), bd=1, relief=SUNKEN, anchor=E)\n",
    "\n",
    "def forward(image_number):\n",
    "    global my_label\n",
    "    global button_forward\n",
    "    global back\n",
    "    \n",
    "    my_label.grid_forget()\n",
    "    my_label=Label(image=image_list[image_number-1])\n",
    "    button_forward=Button(root, text=\">>\", command=lambda: forward(image_number+1))\n",
    "    button_back=Button(root, text=\"<<\", command=lambda: back(image_number-1))\n",
    "    \n",
    "    if (image_number==5):\n",
    "        button_forward=Button(root, text=\">>\",state=DISABLED)\n",
    "    \n",
    "    my_label.grid(row=0,column=0,columnspan=3)\n",
    "    button_back.grid(row=1,column=0)\n",
    "    button_forward.grid(row=1,column=2)\n",
    "    \n",
    "    status=Label(root, text=\"Image \"+ str(image_number) + \" of \" + str(len(image_list)), bd=1, relief=SUNKEN, anchor=E)\n",
    "    status.grid(row=2,column=0,columnspan=3,sticky=W+E)\n",
    "    \n",
    "def back(image_number):\n",
    "    global my_label\n",
    "    global button_forward\n",
    "    global back\n",
    "    \n",
    "    my_label.grid_forget()\n",
    "    my_label=Label(image=image_list[image_number-1])\n",
    "    button_forward=Button(root, text=\">>\", command=lambda: forward(image_number+1))\n",
    "    button_back=Button(root, text=\"<<\", command=lambda: back(image_number-1))\n",
    "    \n",
    "    if (image_number==1):\n",
    "        button_back=Button(root, text=\"<<\",state=DISABLED)\n",
    "    \n",
    "    my_label.grid(row=0,column=0,columnspan=3)\n",
    "    button_back.grid(row=1,column=0)\n",
    "    button_forward.grid(row=1,column=2)\n",
    "    \n",
    "    status=Label(root, text=\"Image \"+ str(image_number)+ \" of \" + str(len(image_list)), bd=1, relief=SUNKEN, anchor=E)\n",
    "    status.grid(row=2,column=0,columnspan=3,sticky=W+E)\n",
    "\n",
    "my_label=Label(image=my_img1)\n",
    "my_label.grid(row=0,column=0,columnspan=3)\n",
    "\n",
    "# Buttons\n",
    "button_back=Button(root, text=\"<<\", command=back,state=DISABLED)\n",
    "button_exit=Button(root, text=\"Exit\", command=root.quit)\n",
    "button_forward=Button(root, text=\">>\", command=lambda: forward(2))\n",
    "\n",
    "button_back.grid(row=1,column=0)\n",
    "button_exit.grid(row=1,column=1)\n",
    "button_forward.grid(row=1,column=2,pady=10)\n",
    "\n",
    "status.grid(row=2,column=0,columnspan=3,sticky=W+E)\n",
    "\n",
    "root.mainloop()"
   ]
  },
  {
   "cell_type": "code",
   "execution_count": null,
   "metadata": {},
   "outputs": [],
   "source": []
  }
 ],
 "metadata": {
  "kernelspec": {
   "display_name": "Python 3",
   "language": "python",
   "name": "python3"
  },
  "language_info": {
   "codemirror_mode": {
    "name": "ipython",
    "version": 3
   },
   "file_extension": ".py",
   "mimetype": "text/x-python",
   "name": "python",
   "nbconvert_exporter": "python",
   "pygments_lexer": "ipython3",
   "version": "3.8.3"
  }
 },
 "nbformat": 4,
 "nbformat_minor": 4
}
