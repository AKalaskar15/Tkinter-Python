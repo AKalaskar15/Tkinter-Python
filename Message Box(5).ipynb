{
 "cells": [
  {
   "cell_type": "markdown",
   "metadata": {},
   "source": [
    "## Message Boxes"
   ]
  },
  {
   "cell_type": "code",
   "execution_count": 1,
   "metadata": {},
   "outputs": [],
   "source": [
    "from tkinter import *\n",
    "from PIL import ImageTk,Image\n",
    "from tkinter import messagebox"
   ]
  },
  {
   "cell_type": "code",
   "execution_count": 12,
   "metadata": {},
   "outputs": [],
   "source": [
    "root=Tk()\n",
    "root.title(\"Message Box\")\n",
    "\n",
    "def popup():\n",
    "    response=messagebox.askyesno(\"This is my popup\",\"Hello User\")\n",
    "    Label(root, text=response).pack()\n",
    "    if (response==1):\n",
    "        Label(root, text=\"You clicked Yes!\").pack()\n",
    "    else:\n",
    "        Label(root, text=\"You clicked No\").pack()\n",
    "    \n",
    "# showinfo, showwarning, showerror, askquestion, askokcancel, askyesno\n",
    "\n",
    "Button(root, text=\"Popup\", command=popup).pack()\n",
    "\n",
    "root.mainloop()"
   ]
  },
  {
   "cell_type": "code",
   "execution_count": null,
   "metadata": {},
   "outputs": [],
   "source": [
    "root=Tk()\n",
    "root.title(\"Message Box\")\n",
    "\n",
    "def popup():\n",
    "    response=messagebox.askokcancel(\"This is my popup\",\"Hello User\")\n",
    "    if (response==1):\n",
    "        Label(root, text=\"You clicked Okay!\").pack()\n",
    "    else:\n",
    "        Label(root, text=\"You clicked Cancel\").pack()\n",
    "\n",
    "Button(root, text=\"Popup\", command=popup).pack()\n",
    "\n",
    "root.mainloop()"
   ]
  },
  {
   "cell_type": "code",
   "execution_count": 13,
   "metadata": {},
   "outputs": [],
   "source": [
    "root=Tk()\n",
    "root.title(\"Message Box\")\n",
    "\n",
    "def popup():\n",
    "    response=messagebox.askquestion(\"This is my popup\",\"Hello User\")\n",
    "    if (response==\"yes\"):\n",
    "        Label(root, text=\"You clicked Yes!\").pack()\n",
    "    else:\n",
    "        Label(root, text=\"You clicked No!\").pack()\n",
    "\n",
    "Button(root, text=\"Popup\", command=popup).pack()\n",
    "\n",
    "root.mainloop()"
   ]
  },
  {
   "cell_type": "code",
   "execution_count": 14,
   "metadata": {},
   "outputs": [],
   "source": [
    "root=Tk()\n",
    "root.title(\"Message Box\")\n",
    "\n",
    "def popup():\n",
    "    response=messagebox.showerror(\"This is my popup\",\"Hello User\")\n",
    "    if (response==\"ok\"):\n",
    "        Label(root, text=\"Error Occured!\").pack()\n",
    "    else:\n",
    "        Label(root, text=\"You clicked No!\").pack()\n",
    "\n",
    "Button(root, text=\"Popup\", command=popup).pack()\n",
    "\n",
    "root.mainloop()"
   ]
  },
  {
   "cell_type": "code",
   "execution_count": null,
   "metadata": {},
   "outputs": [],
   "source": []
  },
  {
   "cell_type": "code",
   "execution_count": null,
   "metadata": {},
   "outputs": [],
   "source": []
  }
 ],
 "metadata": {
  "kernelspec": {
   "display_name": "Python 3",
   "language": "python",
   "name": "python3"
  },
  "language_info": {
   "codemirror_mode": {
    "name": "ipython",
    "version": 3
   },
   "file_extension": ".py",
   "mimetype": "text/x-python",
   "name": "python",
   "nbconvert_exporter": "python",
   "pygments_lexer": "ipython3",
   "version": "3.8.3"
  }
 },
 "nbformat": 4,
 "nbformat_minor": 4
}
