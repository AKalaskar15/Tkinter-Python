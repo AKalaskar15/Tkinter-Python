{
 "cells": [
  {
   "cell_type": "markdown",
   "metadata": {},
   "source": [
    "## Dropdown Box"
   ]
  },
  {
   "cell_type": "code",
   "execution_count": 1,
   "metadata": {},
   "outputs": [],
   "source": [
    "from tkinter import *\n",
    "from PIL import ImageTk,Image"
   ]
  },
  {
   "cell_type": "code",
   "execution_count": 4,
   "metadata": {},
   "outputs": [],
   "source": [
    "root=Tk()\n",
    "root.title(\"Creating Dropdown box\")\n",
    "root.geometry(\"400x400\")\n",
    "\n",
    "def show():\n",
    "    mylabel= Label(root, text=clicked.get()).pack()\n",
    "    \n",
    "clicked=StringVar()\n",
    "clicked.set(\"Mon\")\n",
    "\n",
    "drop = OptionMenu(root, clicked, \"Mon\", \"Tues\", \"Wed\", \"Thurs\", \"Fri\", \"Sat\", \"Sun\")\n",
    "drop.pack()\n",
    "\n",
    "my_btn=Button(root, text=\"Show selection\", command=show).pack()\n",
    "\n",
    "root.mainloop()"
   ]
  },
  {
   "cell_type": "code",
   "execution_count": 7,
   "metadata": {},
   "outputs": [],
   "source": [
    "root=Tk()\n",
    "root.title(\"Creating Dropdown box\")\n",
    "root.geometry(\"400x400\")\n",
    "\n",
    "def show():\n",
    "    mylabel= Label(root, text=clicked.get()).pack()\n",
    "    \n",
    "options=[\"Mon\", \"Tues\", \"Wed\", \"Thurs\", \"Fri\", \"Sat\", \"Sun\"]\n",
    "    \n",
    "clicked=StringVar()\n",
    "clicked.set(options[0])\n",
    "\n",
    "drop = OptionMenu(root, clicked, *options)\n",
    "drop.pack()\n",
    "\n",
    "my_btn=Button(root, text=\"Show selection\", command=show).pack()\n",
    "\n",
    "root.mainloop()"
   ]
  },
  {
   "cell_type": "code",
   "execution_count": null,
   "metadata": {},
   "outputs": [],
   "source": []
  },
  {
   "cell_type": "code",
   "execution_count": null,
   "metadata": {},
   "outputs": [],
   "source": []
  }
 ],
 "metadata": {
  "kernelspec": {
   "display_name": "Python 3",
   "language": "python",
   "name": "python3"
  },
  "language_info": {
   "codemirror_mode": {
    "name": "ipython",
    "version": 3
   },
   "file_extension": ".py",
   "mimetype": "text/x-python",
   "name": "python",
   "nbconvert_exporter": "python",
   "pygments_lexer": "ipython3",
   "version": "3.8.3"
  }
 },
 "nbformat": 4,
 "nbformat_minor": 4
}
