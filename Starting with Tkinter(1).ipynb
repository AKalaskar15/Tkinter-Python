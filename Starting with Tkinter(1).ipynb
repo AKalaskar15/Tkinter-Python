{
 "cells": [
  {
   "cell_type": "markdown",
   "metadata": {},
   "source": [
    "# Tkinter"
   ]
  },
  {
   "cell_type": "markdown",
   "metadata": {},
   "source": [
    "## Getting started with Tkinter"
   ]
  },
  {
   "cell_type": "code",
   "execution_count": 2,
   "metadata": {},
   "outputs": [],
   "source": [
    "from tkinter import *"
   ]
  },
  {
   "cell_type": "code",
   "execution_count": 3,
   "metadata": {},
   "outputs": [],
   "source": [
    "\n",
    "# Creating a window\n",
    "root= Tk()\n",
    "# Creating a label widget\n",
    "myLabel=Label(root, text=\"Hello Apoorva!\")\n",
    "# Showing it on the screen\n",
    "myLabel.pack()\n",
    "\n",
    "\n",
    "root.mainloop()"
   ]
  },
  {
   "cell_type": "code",
   "execution_count": null,
   "metadata": {},
   "outputs": [],
   "source": []
  },
  {
   "cell_type": "markdown",
   "metadata": {},
   "source": [
    "## Positioning with Tkinter's Grid System"
   ]
  },
  {
   "cell_type": "code",
   "execution_count": 4,
   "metadata": {},
   "outputs": [],
   "source": [
    "# Creating a window\n",
    "root= Tk()\n",
    "# Creating a label widget\n",
    "myLabel1=Label(root, text=\"Hello Apoorva!\")\n",
    "myLabel2=Label(root, text=\"Welcome back to GUI with Tkinter\")\n",
    "# Showing it on the screen\n",
    "myLabel1.grid(row=0,column=0)\n",
    "myLabel2.grid(row=1,column=0)\n",
    "\n",
    "root.mainloop()"
   ]
  },
  {
   "cell_type": "code",
   "execution_count": 5,
   "metadata": {},
   "outputs": [],
   "source": [
    "# Creating a window\n",
    "root= Tk()\n",
    "# Creating a label widget\n",
    "myLabel1=Label(root, text=\"Hello Apoorva!\")\n",
    "myLabel2=Label(root, text=\"Welcome back to GUI with Tkinter\")\n",
    "myLabel3=Label(root,text=\"  \")\n",
    "# Showing it on the screen\n",
    "myLabel1.grid(row=0,column=0)\n",
    "myLabel2.grid(row=1,column=5)\n",
    "myLabel3.grid(row=1,column=2)\n",
    "\n",
    "root.mainloop()"
   ]
  },
  {
   "cell_type": "code",
   "execution_count": 6,
   "metadata": {},
   "outputs": [],
   "source": [
    "# Creating a window\n",
    "root= Tk()\n",
    "# Creating a label widget\n",
    "myLabel1=Label(root, text=\"Hello Apoorva!\").grid(row=0,column=0)\n",
    "myLabel2=Label(root, text=\"Welcome back to GUI with Tkinter\").grid(row=1,column=5)\n",
    "\n",
    "root.mainloop()"
   ]
  },
  {
   "cell_type": "code",
   "execution_count": null,
   "metadata": {},
   "outputs": [],
   "source": []
  },
  {
   "cell_type": "markdown",
   "metadata": {},
   "source": [
    "## Creating Buttons"
   ]
  },
  {
   "cell_type": "code",
   "execution_count": 13,
   "metadata": {},
   "outputs": [],
   "source": [
    "root = Tk()\n",
    "\n",
    "myButton1=Button(root, text=\"Click Me!\",state=DISABLED)\n",
    "myButton2=Button(root, text=\"Done\",padx=50,pady=50)\n",
    "\n",
    "myButton1.pack()\n",
    "myButton2.pack()\n",
    "\n",
    "root.mainloop()"
   ]
  },
  {
   "cell_type": "code",
   "execution_count": 17,
   "metadata": {},
   "outputs": [],
   "source": [
    "root=Tk()\n",
    "\n",
    "def myClick():\n",
    "    myLabel=Label(root, text=\"Look I clicked a button.\")\n",
    "    myLabel.pack()\n",
    "    \n",
    "myButton1=Button(root, text=\"Click Me!\",fg=\"blue\",bg=\"green\",command=myClick)\n",
    "myButton2=Button(root, text=\"Done\",padx=50,pady=50)\n",
    "\n",
    "myButton1.pack()\n",
    "myButton2.pack()\n",
    "\n",
    "root.mainloop()"
   ]
  },
  {
   "cell_type": "code",
   "execution_count": null,
   "metadata": {},
   "outputs": [],
   "source": []
  },
  {
   "cell_type": "markdown",
   "metadata": {},
   "source": [
    "## Creating Input Fields"
   ]
  },
  {
   "cell_type": "code",
   "execution_count": 23,
   "metadata": {},
   "outputs": [],
   "source": [
    "root=Tk()\n",
    "\n",
    "#Entry Widget\n",
    "e1=Entry(root,width=50)\n",
    "e2=Entry(root,fg=\"blue\",borderwidth=5)\n",
    "e1.pack()\n",
    "e2.pack()\n",
    "\n",
    "def myClick():\n",
    "    myLabel=Label(root, text=\"Look I clicked a button.\")\n",
    "    myLabel.pack()\n",
    "    \n",
    "myButton1=Button(root, text=\"Click Me!\",fg=\"blue\",command=myClick)\n",
    "\n",
    "\n",
    "myButton1.pack()\n",
    "\n",
    "\n",
    "root.mainloop()"
   ]
  },
  {
   "cell_type": "code",
   "execution_count": 27,
   "metadata": {},
   "outputs": [],
   "source": [
    "root=Tk()\n",
    "\n",
    "#Entry Widget\n",
    "e1=Entry(root,width=50)\n",
    "e1.pack()\n",
    "\n",
    "\n",
    "def myClick():\n",
    "    myLabel=Label(root, text=\"Hello \" +e1.get())\n",
    "    myLabel.pack()\n",
    "    \n",
    "myButton1=Button(root, text=\"Enter your name:\",fg=\"blue\",command=myClick)\n",
    "myButton1.pack()\n",
    "\n",
    "\n",
    "root.mainloop()"
   ]
  },
  {
   "cell_type": "code",
   "execution_count": 28,
   "metadata": {},
   "outputs": [],
   "source": [
    "root=Tk()\n",
    "\n",
    "#Entry Widget\n",
    "e1=Entry(root,width=50)\n",
    "e1.pack()\n",
    "\n",
    "\n",
    "def myClick():\n",
    "    msg=\"Hello \" + e1.get()\n",
    "    myLabel=Label(root, text=msg)\n",
    "    myLabel.pack()\n",
    "    \n",
    "myButton1=Button(root, text=\"Enter your name:\",fg=\"blue\",command=myClick)\n",
    "myButton1.pack()\n",
    "\n",
    "\n",
    "root.mainloop()"
   ]
  },
  {
   "cell_type": "code",
   "execution_count": 29,
   "metadata": {},
   "outputs": [],
   "source": [
    "root=Tk()\n",
    "\n",
    "#Entry Widget\n",
    "e1=Entry(root,width=50)\n",
    "e1.pack()\n",
    "e1.insert(0, \"Enter your name here\")\n",
    "\n",
    "def myClick():\n",
    "    msg=\"Hello \" + e1.get()\n",
    "    myLabel=Label(root, text=msg)\n",
    "    myLabel.pack()\n",
    "    \n",
    "myButton1=Button(root, text=\"Done\",command=myClick)\n",
    "myButton1.pack()\n",
    "\n",
    "\n",
    "root.mainloop()"
   ]
  },
  {
   "cell_type": "code",
   "execution_count": null,
   "metadata": {},
   "outputs": [],
   "source": []
  },
  {
   "cell_type": "code",
   "execution_count": null,
   "metadata": {},
   "outputs": [],
   "source": []
  }
 ],
 "metadata": {
  "kernelspec": {
   "display_name": "Python 3",
   "language": "python",
   "name": "python3"
  },
  "language_info": {
   "codemirror_mode": {
    "name": "ipython",
    "version": 3
   },
   "file_extension": ".py",
   "mimetype": "text/x-python",
   "name": "python",
   "nbconvert_exporter": "python",
   "pygments_lexer": "ipython3",
   "version": "3.8.3"
  }
 },
 "nbformat": 4,
 "nbformat_minor": 4
}
