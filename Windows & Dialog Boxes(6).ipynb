{
 "cells": [
  {
   "cell_type": "markdown",
   "metadata": {},
   "source": [
    "## Creating new windows"
   ]
  },
  {
   "cell_type": "code",
   "execution_count": 1,
   "metadata": {},
   "outputs": [],
   "source": [
    "from tkinter import *\n",
    "from PIL import ImageTk,Image"
   ]
  },
  {
   "cell_type": "code",
   "execution_count": 3,
   "metadata": {},
   "outputs": [],
   "source": [
    "root=Tk()\n",
    "root.title(\"This is main window\")\n",
    "root.iconbitmap('D:/calci.ico')\n",
    "\n",
    "top=Toplevel()\n",
    "label=Label(top, text=\"New Window\").pack()\n",
    "\n",
    "mainloop()"
   ]
  },
  {
   "cell_type": "code",
   "execution_count": 5,
   "metadata": {},
   "outputs": [],
   "source": [
    "root=Tk()\n",
    "root.title(\"This is main window\")\n",
    "root.iconbitmap('D:/calci.ico')\n",
    "\n",
    "top=Toplevel()\n",
    "top.title(\"This is new window\")\n",
    "myimg=ImageTk.PhotoImage(Image.open(\"Images/image1.png\"))\n",
    "mylbl=Label(top, image=myimg).pack()\n",
    "\n",
    "mainloop()"
   ]
  },
  {
   "cell_type": "code",
   "execution_count": 10,
   "metadata": {},
   "outputs": [],
   "source": [
    "root=Tk()\n",
    "root.title(\"This is main window\")\n",
    "root.iconbitmap('D:/calci.ico')\n",
    "\n",
    "def open():\n",
    "    top=Toplevel()\n",
    "    top.title(\"This is new window\")\n",
    "    global myimg\n",
    "    myimg=ImageTk.PhotoImage(Image.open(\"Images/image1.png\"))\n",
    "    mylbl=Label(top, image=myimg).pack()\n",
    "    button2= Button(top, text=\"Close window\", command=top.destroy).pack()\n",
    "    \n",
    "button=Button(root, text=\"Open new window\",command=open).pack()\n",
    "\n",
    "mainloop()"
   ]
  },
  {
   "cell_type": "markdown",
   "metadata": {},
   "source": [
    "## Open files dialog boxes"
   ]
  },
  {
   "cell_type": "code",
   "execution_count": 11,
   "metadata": {},
   "outputs": [],
   "source": [
    "from tkinter import filedialog"
   ]
  },
  {
   "cell_type": "code",
   "execution_count": 14,
   "metadata": {},
   "outputs": [],
   "source": [
    "root=Tk()\n",
    "root.title(\"Open files dialog boxes\")\n",
    "root.iconbitmap('D:/calci.ico')\n",
    "\n",
    "root.filename= filedialog.askopenfilename(initialdir=\"/Users/HP/Python Sessions/Tkinter\", title=\"Select a file\", filetypes=((\"png files\",\"*.png\"),(\"all files\",\"*.*\")))\n",
    "\n",
    "my_label=Label(root, text=root.filename).pack()\n",
    "\n",
    "mainloop()"
   ]
  },
  {
   "cell_type": "code",
   "execution_count": 15,
   "metadata": {},
   "outputs": [],
   "source": [
    "root=Tk()\n",
    "root.title(\"Open files dialog boxes\")\n",
    "root.iconbitmap('D:/calci.ico')\n",
    "\n",
    "root.filename= filedialog.askopenfilename(initialdir=\"/Users/HP/Python Sessions/Tkinter\", title=\"Select a file\", filetypes=((\"png files\",\"*.png\"),(\"all files\",\"*.*\")))\n",
    "\n",
    "my_label=Label(root, text=root.filename).pack()\n",
    "\n",
    "my_img=ImageTk.PhotoImage(Image.open(root.filename))\n",
    "img_label=Label(image=my_img).pack()\n",
    "\n",
    "\n",
    "mainloop()"
   ]
  },
  {
   "cell_type": "code",
   "execution_count": 16,
   "metadata": {},
   "outputs": [],
   "source": [
    "root=Tk()\n",
    "root.title(\"Open files dialog boxes\")\n",
    "root.iconbitmap('D:/calci.ico')\n",
    "\n",
    "def open():\n",
    "    global my_img\n",
    "    root.filename= filedialog.askopenfilename(initialdir=\"/Users/HP/Python Sessions/Tkinter\", title=\"Select a file\", filetypes=((\"png files\",\"*.png\"),(\"all files\",\"*.*\")))\n",
    "    my_label=Label(root, text=root.filename).pack()\n",
    "    my_img=ImageTk.PhotoImage(Image.open(root.filename))\n",
    "    img_label=Label(image=my_img).pack()\n",
    "    \n",
    "\n",
    "my_but=Button(root, text=\"Open file\", command=open).pack()\n",
    "\n",
    "mainloop()"
   ]
  },
  {
   "cell_type": "code",
   "execution_count": null,
   "metadata": {},
   "outputs": [],
   "source": []
  },
  {
   "cell_type": "code",
   "execution_count": null,
   "metadata": {},
   "outputs": [],
   "source": []
  }
 ],
 "metadata": {
  "kernelspec": {
   "display_name": "Python 3",
   "language": "python",
   "name": "python3"
  },
  "language_info": {
   "codemirror_mode": {
    "name": "ipython",
    "version": 3
   },
   "file_extension": ".py",
   "mimetype": "text/x-python",
   "name": "python",
   "nbconvert_exporter": "python",
   "pygments_lexer": "ipython3",
   "version": "3.8.3"
  }
 },
 "nbformat": 4,
 "nbformat_minor": 4
}
